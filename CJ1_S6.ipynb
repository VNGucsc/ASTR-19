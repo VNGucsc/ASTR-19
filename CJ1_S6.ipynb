{
 "cells": [
  {
   "cell_type": "code",
   "execution_count": 1,
   "id": "f6d3f698-b2f9-4bac-b62f-6bc818473e24",
   "metadata": {},
   "outputs": [],
   "source": [
    "import math"
   ]
  },
  {
   "cell_type": "code",
   "execution_count": 4,
   "id": "2b42eadd-9b93-438b-b503-cb72662650bf",
   "metadata": {},
   "outputs": [],
   "source": [
    "def return_cos(val):\n",
    "    return math.cos(val)"
   ]
  },
  {
   "cell_type": "markdown",
   "id": "3c6d9830-7d8c-4834-a7f6-5c06f3788be1",
   "metadata": {},
   "source": [
    "This function calculates and return the cos of the inputted value."
   ]
  },
  {
   "cell_type": "code",
   "execution_count": null,
   "id": "4330e168-0682-4172-a3ec-ff636dfd305f",
   "metadata": {},
   "outputs": [],
   "source": [
    "def return_sin(val):\n",
    "    return math.sin(val)"
   ]
  },
  {
   "cell_type": "markdown",
   "id": "0a3320ab-6e56-418a-bcb8-94c2d6d21105",
   "metadata": {},
   "source": [
    "This function calculates and return the sin of the inputted value."
   ]
  },
  {
   "cell_type": "code",
   "execution_count": 7,
   "id": "7c010eb2-ffb0-4146-870d-7a2a23813f15",
   "metadata": {},
   "outputs": [],
   "source": [
    "x = 0\n",
    "x_goal = 2 * math.pi\n",
    "\n",
    "step_size = x_goal / 999\n",
    "\n",
    "results_x = []\n",
    "results_sin = []\n",
    "results_cos = []\n",
    "\n",
    "for i in range (1000):\n",
    "    temp = x + i * step_size\n",
    "    sin_temp = math.sin(temp)\n",
    "    cos_temp = math.cos(temp)\n",
    "    results_x.append(temp)\n",
    "    results_sin.append(sin_temp)\n",
    "    results_cos.append(cos_temp)"
   ]
  },
  {
   "cell_type": "code",
   "execution_count": 9,
   "id": "e4544d08-50b4-4277-83d8-557c055984db",
   "metadata": {},
   "outputs": [
    {
     "name": "stdout",
     "output_type": "stream",
     "text": [
      "X: 0.0 Sin(X): 0.0 Cos(X): 1.0\n",
      "\n",
      "X: 0.006289474781961547 Sin(X): 0.006289433316067751 Cos(X): 0.9999802213186832\n",
      "\n",
      "X: 0.012578949563923095 Sin(X): 0.012578617838741058 Cos(X): 0.9999208860571255\n",
      "\n",
      "X: 0.018868424345884642 Sin(X): 0.01886730478446709 Cos(X): 0.9998219965624732\n",
      "\n",
      "X: 0.02515789912784619 Sin(X): 0.025155245389375847 Cos(X): 0.9996835567465339\n",
      "\n",
      "X: 0.03144737390980774 Sin(X): 0.0314421909191206 Cos(X): 0.9995055720856215\n",
      "\n",
      "X: 0.037736848691769284 Sin(X): 0.03772789267871718 Cos(X): 0.99928804962034\n",
      "\n",
      "X: 0.04402632347373083 Sin(X): 0.04401210202238166 Cos(X): 0.9990309979553044\n",
      "\n",
      "X: 0.05031579825569238 Sin(X): 0.05029457036336618 Cos(X): 0.9987344272588006\n",
      "\n",
      "X: 0.056605273037653926 Sin(X): 0.056575049183792345 Cos(X): 0.9983983492623831\n",
      "\n"
     ]
    }
   ],
   "source": [
    "for i in range(10):\n",
    "    print(f'X: {results_x[i]} Sin(X): {results_sin[i]} Cos(X): {results_cos[i]}\\n')"
   ]
  },
  {
   "cell_type": "code",
   "execution_count": null,
   "id": "e2197b0a-6d0b-44b3-9e21-c3eb49ccf01e",
   "metadata": {},
   "outputs": [],
   "source": []
  }
 ],
 "metadata": {
  "kernelspec": {
   "display_name": "Python 3 (ipykernel)",
   "language": "python",
   "name": "python3"
  },
  "language_info": {
   "codemirror_mode": {
    "name": "ipython",
    "version": 3
   },
   "file_extension": ".py",
   "mimetype": "text/x-python",
   "name": "python",
   "nbconvert_exporter": "python",
   "pygments_lexer": "ipython3",
   "version": "3.10.12"
  }
 },
 "nbformat": 4,
 "nbformat_minor": 5
}
